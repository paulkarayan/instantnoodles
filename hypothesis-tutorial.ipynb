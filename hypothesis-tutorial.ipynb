{
 "cells": [
  {
   "cell_type": "markdown",
   "metadata": {},
   "source": [
    "# Learn about Property-based Testing - with Hypothesis"
   ]
  },
  {
   "cell_type": "markdown",
   "metadata": {},
   "source": [
    "Based on this great lightening talk: https://www.slideshare.net/FranklinChen/handout-23548866\n",
    "by Franklin Chen\n",
    "\n",
    "more information here:\n",
    "https://github.com/franklinchen/lightning-talk-on-hypothesis\n",
    "\n",
    "So, let's take a look at whether list appends are associative..."
   ]
  },
  {
   "cell_type": "markdown",
   "metadata": {},
   "source": [
    "## Naive approach\n",
    "write out examples. lots of them. try to cover all the things."
   ]
  },
  {
   "cell_type": "code",
   "execution_count": null,
   "metadata": {
    "collapsed": true
   },
   "outputs": [],
   "source": [
    "def test_list_append_associative_example1():\n",
    "    x, y, z = [2], [3, 4, 5], [6, 7]\n",
    "    assert (x + y) + z == x + (y + z)\n",
    "    \n",
    "# then write more ad nauseum...\n",
    "\n",
    "def test_list_append_associative_example2():\n",
    "    x, y, z = [2, 3], [], [6, 7]\n",
    "    assert (x + y) + z == x + (y + z)"
   ]
  },
  {
   "cell_type": "markdown",
   "metadata": {},
   "source": [
    "## PyTest example \n",
    "use parameters to reduce boilerplate"
   ]
  },
  {
   "cell_type": "code",
   "execution_count": null,
   "metadata": {
    "collapsed": true
   },
   "outputs": [],
   "source": [
    "import pytest\n",
    "\n",
    "@pytest.mark.parameterize ((\"x\", \"y\", \"z\"), [\n",
    "        ([2], [3, 4, 5], [6, 7]),\n",
    "        ([2, 3], [], [6, 7])\n",
    "    ])\n",
    "def test_list_append_associative(x, y, z):\n",
    "    assert (x + y) + z == x + (y + z)"
   ]
  },
  {
   "cell_type": "markdown",
   "metadata": {},
   "source": [
    "## Property-based Hypothesis testing"
   ]
  },
  {
   "cell_type": "code",
   "execution_count": 2,
   "metadata": {
    "collapsed": false
   },
   "outputs": [],
   "source": [
    "from hypothesis import given\n",
    "\n",
    "@given ([int], [int], [int])\n",
    "def test_list_append_associative(x, y, z):\n",
    "    assert (x + y) + z == x + (y + z)\n",
    "    "
   ]
  },
  {
   "cell_type": "code",
   "execution_count": null,
   "metadata": {
    "collapsed": false
   },
   "outputs": [],
   "source": [
    "# Failing example\n",
    "\n",
    "@given (int, int)\n",
    "def test_multiply_then_divide_is_same(x, y):\n",
    "    assert (x * y) / y == x"
   ]
  },
  {
   "cell_type": "code",
   "execution_count": 3,
   "metadata": {
    "collapsed": false
   },
   "outputs": [
    {
     "ename": "ImportError",
     "evalue": "No module named testdecorators",
     "output_type": "error",
     "traceback": [
      "\u001b[0;31m---------------------------------------------------------------------------\u001b[0m",
      "\u001b[0;31mImportError\u001b[0m                               Traceback (most recent call last)",
      "\u001b[0;32m<ipython-input-3-b86349e98fb3>\u001b[0m in \u001b[0;36m<module>\u001b[0;34m()\u001b[0m\n\u001b[1;32m      1\u001b[0m \u001b[0;31m# An example of how we could do beneficial stuff:\u001b[0m\u001b[0;34m\u001b[0m\u001b[0;34m\u001b[0m\u001b[0m\n\u001b[1;32m      2\u001b[0m \u001b[0;31m# this is the example given that fails now\u001b[0m\u001b[0;34m\u001b[0m\u001b[0;34m\u001b[0m\u001b[0m\n\u001b[0;32m----> 3\u001b[0;31m \u001b[0;32mfrom\u001b[0m \u001b[0mhypothesis\u001b[0m\u001b[0;34m.\u001b[0m\u001b[0mtestdecorators\u001b[0m \u001b[0;32mimport\u001b[0m \u001b[0mgiven\u001b[0m\u001b[0;34m\u001b[0m\u001b[0m\n\u001b[0m\u001b[1;32m      4\u001b[0m \u001b[0;34m\u001b[0m\u001b[0m\n\u001b[1;32m      5\u001b[0m \u001b[0;34m@\u001b[0m\u001b[0mgiven\u001b[0m \u001b[0;34m(\u001b[0m\u001b[0;34m[\u001b[0m\u001b[0mint\u001b[0m\u001b[0;34m]\u001b[0m\u001b[0;34m,\u001b[0m \u001b[0;34m[\u001b[0m\u001b[0mint\u001b[0m\u001b[0;34m]\u001b[0m\u001b[0;34m,\u001b[0m \u001b[0;34m[\u001b[0m\u001b[0mint\u001b[0m\u001b[0;34m]\u001b[0m\u001b[0;34m)\u001b[0m\u001b[0;34m\u001b[0m\u001b[0m\n",
      "\u001b[0;31mImportError\u001b[0m: No module named testdecorators"
     ]
    }
   ],
   "source": [
    "# An example of how we could do beneficial stuff: \n",
    "# this is the example given that fails now\n",
    "\n",
    "from hypothesis.testdecorators import given\n",
    "\n",
    "@given ([int], [int], [int])\n",
    "def test_list_append_associative(x, y, z):\n",
    "    assert (x + y) + z == x + (y + z)\n",
    "    "
   ]
  },
  {
   "cell_type": "code",
   "execution_count": null,
   "metadata": {
    "collapsed": true
   },
   "outputs": [],
   "source": []
  }
 ],
 "metadata": {
  "kernelspec": {
   "display_name": "Python 2",
   "language": "python",
   "name": "python2"
  },
  "language_info": {
   "codemirror_mode": {
    "name": "ipython",
    "version": 2
   },
   "file_extension": ".py",
   "mimetype": "text/x-python",
   "name": "python",
   "nbconvert_exporter": "python",
   "pygments_lexer": "ipython2",
   "version": "2.7.14"
  }
 },
 "nbformat": 4,
 "nbformat_minor": 0
}
